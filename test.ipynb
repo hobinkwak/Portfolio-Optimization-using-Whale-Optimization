{
 "cells": [
  {
   "cell_type": "code",
   "execution_count": null,
   "id": "a3f4de26",
   "metadata": {},
   "outputs": [],
   "source": [
    "import numpy as np\n",
    "import pandas as pd\n",
    "from portOptim import PortfolioOptimizer\n",
    "\n",
    "\n",
    "stock_df = pd.read_csv('data/sample_portfolio.csv', parse_dates=['Date'], index_col=['Date'])\n",
    "print('종목들: \\n', stock_df.columns.tolist())\n",
    "\n",
    "lb = np.repeat(0.02, 15)\n",
    "ub = np.repeat(0.2, 15)\n",
    "n_iter = 500\n",
    "\n",
    "woa = True\n",
    "\n",
    "optim = PortfolioOptimizer(stock_df, lb, ub, n_iter)\n",
    "optim.init_param()\n",
    "if woa:\n",
    "    weights = optim.woa_minimize(n_whale=200, n_iter=200, spiral_constant=0.5)\n",
    "else:\n",
    "    weights = optim.scipy_minimize()\n",
    "port_rtn, port_vol, sharpe = optim.calc_perf(weights)\n",
    "name = 'woa' if woa else 'scipy'\n",
    "optim.visualize(port_rtn, port_vol, sharpe, name=name)"
   ]
  }
 ],
 "metadata": {
  "hide_input": false,
  "kernelspec": {
   "display_name": "Python 3",
   "language": "python",
   "name": "python3"
  },
  "language_info": {
   "codemirror_mode": {
    "name": "ipython",
    "version": 3
   },
   "file_extension": ".py",
   "mimetype": "text/x-python",
   "name": "python",
   "nbconvert_exporter": "python",
   "pygments_lexer": "ipython3",
   "version": "3.8.5"
  },
  "toc": {
   "base_numbering": 1,
   "nav_menu": {},
   "number_sections": true,
   "sideBar": true,
   "skip_h1_title": false,
   "title_cell": "Table of Contents",
   "title_sidebar": "Contents",
   "toc_cell": false,
   "toc_position": {},
   "toc_section_display": true,
   "toc_window_display": false
  },
  "varInspector": {
   "cols": {
    "lenName": 16,
    "lenType": 16,
    "lenVar": 40
   },
   "kernels_config": {
    "python": {
     "delete_cmd_postfix": "",
     "delete_cmd_prefix": "del ",
     "library": "var_list.py",
     "varRefreshCmd": "print(var_dic_list())"
    },
    "r": {
     "delete_cmd_postfix": ") ",
     "delete_cmd_prefix": "rm(",
     "library": "var_list.r",
     "varRefreshCmd": "cat(var_dic_list()) "
    }
   },
   "types_to_exclude": [
    "module",
    "function",
    "builtin_function_or_method",
    "instance",
    "_Feature"
   ],
   "window_display": false
  }
 },
 "nbformat": 4,
 "nbformat_minor": 5
}
